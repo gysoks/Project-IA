{
  "cells": [
    {
      "cell_type": "markdown",
      "metadata": {
        "id": "view-in-github",
        "colab_type": "text"
      },
      "source": [
        "<a href=\"https://colab.research.google.com/github/gysoks/Project-IA/blob/main/Project_1_AI.ipynb\" target=\"_parent\"><img src=\"https://colab.research.google.com/assets/colab-badge.svg\" alt=\"Open In Colab\"/></a>"
      ]
    },
    {
      "cell_type": "markdown",
      "metadata": {
        "id": "6dTUAJYB-cii"
      },
      "source": [
        "## **PROJECT n°1 IA**\n",
        "\n",
        "ANGLES Tristan **#300336356**\n",
        "\n",
        "VERONNEAU Rayan **#300336355**"
      ]
    },
    {
      "cell_type": "code",
      "source": [],
      "metadata": {
        "id": "8LfotwPhhW1y"
      },
      "execution_count": null,
      "outputs": []
    },
    {
      "cell_type": "markdown",
      "metadata": {
        "id": "b1GjppoCsxGl"
      },
      "source": [
        "##1. Understanding the classification task"
      ]
    },
    {
      "cell_type": "markdown",
      "metadata": {
        "id": "Kf4FPrW7-SmI"
      },
      "source": [
        "Link to our dataset: https://www.kaggle.com/datasets/shivamb/machine-predictive-maintenance-classification?fbclid=IwAR2LGowTWtSDKIB7tCH1rispLt_baF0Fk9q9ANXCtLGx7If5_ObFoEBQfw8"
      ]
    },
    {
      "cell_type": "markdown",
      "metadata": {
        "id": "LyI6WL-sWoTT"
      },
      "source": [
        "This study is a **machine predictive maintenance study**. The goal here is to prevent machines from failure, regarding specific features. More specifically, **it consists in a binary but also in a multi-class classification (depending on the target we choose)** . Indeed there are two targets which are the **\"Target\"** column (it failed or not: --> binary classification) and the **\"Failure type\"** (multi-class classification). HERE WE WILL ONLY FOCUS ON THE FIRST TARGET (FAILURE OR NOT)."
      ]
    },
    {
      "cell_type": "markdown",
      "metadata": {
        "id": "aAhhOqz9s5Ig"
      },
      "source": [
        "##2. Analysing the dataset"
      ]
    },
    {
      "cell_type": "markdown",
      "metadata": {
        "id": "7fxrDd64s5R_"
      },
      "source": [
        "The dataset consists of **10 000 data points as rows with 10 columns** (not all of them are features). There is **no missing data**: it can be verified by checking columns data on the Kaggle dataset webpage, or with the following line of code:\n",
        "\n",
        "**machine.isnull().sum()** #it gives the number of null values per feature"
      ]
    },
    {
      "cell_type": "markdown",
      "metadata": {
        "id": "IsLWyq7Js5ZF"
      },
      "source": [
        "##3. Brainstorming bout the attributes"
      ]
    },
    {
      "cell_type": "markdown",
      "metadata": {
        "id": "omT-lOI5tJeP"
      },
      "source": [
        "The columns consist of : UDI (unique ID), Product ID, Type, Air Temperature [K], Process Temparature [K], Rotational Speed [rpm], Torque [Nm], Tool wear [min], Target (if failed or not), Failure Type. **The 2 last columns (Target and Failure type) are the two targets** and shall not be considered as features ! As well, **the 2 first columns (UDI and Product ID) aren't relevant for a classification study**. Therefore, the usefull columns are the ones from the 3rd (Air temperature) to the 8th (Tool wear) position."
      ]
    },
    {
      "cell_type": "markdown",
      "metadata": {
        "id": "3IuqTJYStT68"
      },
      "source": [
        "##4. Preparing and encoding features"
      ]
    },
    {
      "cell_type": "code",
      "execution_count": null,
      "metadata": {
        "id": "bGd9hpCHLYnn"
      },
      "outputs": [],
      "source": [
        "import pandas as pd\n",
        "import numpy as np\n",
        "import seaborn as sns\n",
        "from sklearn.svm import SVC\n",
        "from sklearn import svm\n",
        "import matplotlib.pyplot as plt\n",
        "from sklearn.ensemble import RandomForestClassifier\n",
        "from sklearn.neural_network import MLPClassifier\n",
        "from sklearn.naive_bayes import GaussianNB, MultinomialNB, CategoricalNB\n",
        "from sklearn.metrics import classification_report\n",
        "from sklearn.preprocessing import StandardScaler, LabelEncoder\n",
        "from sklearn.model_selection import train_test_split\n",
        "from sklearn.linear_model import LogisticRegression\n",
        "from sklearn import metrics\n",
        "from sklearn.utils import shuffle\n",
        "from sklearn import datasets\n",
        "from sklearn import neural_network"
      ]
    },
    {
      "cell_type": "code",
      "execution_count": null,
      "metadata": {
        "colab": {
          "base_uri": "https://localhost:8080/"
        },
        "id": "sbcf_wUULkoK",
        "outputId": "51aeb7e7-b4ed-4e36-d418-a0b06a1a803e"
      },
      "outputs": [
        {
          "output_type": "stream",
          "name": "stdout",
          "text": [
            "<class 'pandas.core.frame.DataFrame'>\n",
            "RangeIndex: 10000 entries, 0 to 9999\n",
            "Data columns (total 10 columns):\n",
            " #   Column                   Non-Null Count  Dtype  \n",
            "---  ------                   --------------  -----  \n",
            " 0   UDI                      10000 non-null  int64  \n",
            " 1   Product ID               10000 non-null  object \n",
            " 2   Type                     10000 non-null  object \n",
            " 3   Air temperature [K]      10000 non-null  float64\n",
            " 4   Process temperature [K]  10000 non-null  float64\n",
            " 5   Rotational speed [rpm]   10000 non-null  int64  \n",
            " 6   Torque [Nm]              10000 non-null  float64\n",
            " 7   Tool wear [min]          10000 non-null  int64  \n",
            " 8   Target                   10000 non-null  int64  \n",
            " 9   Failure Type             10000 non-null  object \n",
            "dtypes: float64(3), int64(4), object(3)\n",
            "memory usage: 781.4+ KB\n"
          ]
        }
      ],
      "source": [
        "#Read the file and print an overview of it\n",
        "machine=pd.read_csv('https://raw.githubusercontent.com/gysoks/Project-IA/main/predictive_maintenance.csv')\n",
        "machine.info()\n",
        "\n",
        "#We cut \"UDI\" and \"Product ID\" features because it's not relevant for our classification study.\n",
        "#We also cut the second target \"TYpe of failure\" as explained in 1).\n",
        "\n",
        "machine.pop('UDI')\n",
        "machine.pop('Product ID')\n",
        "machine.pop('Failure Type')\n",
        "\n",
        "# 'Type' column contains string, but we need numerical values to run the models\n",
        "label_type=LabelEncoder()\n",
        "machine['Type']=label_type.fit_transform(machine['Type'])\n"
      ]
    },
    {
      "cell_type": "code",
      "execution_count": null,
      "metadata": {
        "colab": {
          "base_uri": "https://localhost:8080/"
        },
        "id": "BPw5ZBSaMYqy",
        "outputId": "4dadb0b8-9f6f-47fb-a9fb-c89a4b2f18cc"
      },
      "outputs": [
        {
          "output_type": "execute_result",
          "data": {
            "text/plain": [
              "Type                       0\n",
              "Air temperature [K]        0\n",
              "Process temperature [K]    0\n",
              "Rotational speed [rpm]     0\n",
              "Torque [Nm]                0\n",
              "Tool wear [min]            0\n",
              "Target                     0\n",
              "dtype: int64"
            ]
          },
          "metadata": {},
          "execution_count": 3
        }
      ],
      "source": [
        "#Check if every data are usable\n",
        "\n",
        "machine.isnull().sum()"
      ]
    },
    {
      "cell_type": "markdown",
      "metadata": {
        "id": "q_WX76gbV9gD"
      },
      "source": [
        "There is **no missing values** in the dataset: we can use all the features without worrying about it."
      ]
    },
    {
      "cell_type": "markdown",
      "metadata": {
        "id": "XvGjOUoHy8J4"
      },
      "source": [
        "#5. Models"
      ]
    },
    {
      "cell_type": "markdown",
      "metadata": {
        "id": "LlUQfkQJObOw"
      },
      "source": [
        "## 5.1 **Naive Bayes**"
      ]
    },
    {
      "cell_type": "markdown",
      "metadata": {
        "id": "-5J9AQbd0_VU"
      },
      "source": [
        "###5.1.1 Gaussian model"
      ]
    },
    {
      "cell_type": "markdown",
      "metadata": {
        "id": "jxgGQ6x81NTw"
      },
      "source": [
        "Even if we will use Categorical Naive Bayes to train and test our data, we can first have a look to a simple (but non-optimal) solution. This model has the main advantage to deal with our almost continuous features: we can have a first result without binning our continuous data."
      ]
    },
    {
      "cell_type": "code",
      "execution_count": null,
      "metadata": {
        "colab": {
          "base_uri": "https://localhost:8080/"
        },
        "id": "EMNH7P0mMnt4",
        "outputId": "5fb9c8da-0ac1-4508-f318-8076df665482"
      },
      "outputs": [
        {
          "output_type": "stream",
          "name": "stdout",
          "text": [
            "              precision    recall  f1-score   support\n",
            "\n",
            "           0       0.98      0.99      0.98      2904\n",
            "           1       0.40      0.26      0.32        96\n",
            "\n",
            "    accuracy                           0.96      3000\n",
            "   macro avg       0.69      0.62      0.65      3000\n",
            "weighted avg       0.96      0.96      0.96      3000\n",
            "\n"
          ]
        }
      ],
      "source": [
        "machine_NB = machine.copy()\n",
        "\n",
        "#Separating and perfomring 3 training\n",
        "X=machine_NB.drop(['Target'],axis=1)\n",
        "y=machine_NB['Target']\n",
        "\n",
        "\n",
        "X_train, X_test, y_train, y_test = train_test_split(X, y, test_size = 0.3)\n",
        "\n",
        "#Gaussian Naive Bayes model\n",
        "GNBclf = GaussianNB()\n",
        "GNBclf.fit(X_train, y_train)\n",
        "\n",
        "#Then we evaluate our model\n",
        "preds = GNBclf.predict(X_test)\n",
        "print(classification_report(y_test,preds))"
      ]
    },
    {
      "cell_type": "markdown",
      "metadata": {
        "id": "8hyuBNFH25fH"
      },
      "source": [
        "###5.1.2 **Categorical model**"
      ]
    },
    {
      "cell_type": "markdown",
      "metadata": {
        "id": "kNjlTLz340vj"
      },
      "source": [
        "####**Model 1: Quartiles (4 bins)**"
      ]
    },
    {
      "cell_type": "markdown",
      "metadata": {
        "id": "2WQwrKy52_0x"
      },
      "source": [
        "We saw in class that binning continuous data was necessary to use a Categorical Naive Bayes model. That's why we are going to partition our data according to different parameters."
      ]
    },
    {
      "cell_type": "code",
      "execution_count": null,
      "metadata": {
        "colab": {
          "base_uri": "https://localhost:8080/"
        },
        "id": "j5_L0yxUNFh8",
        "outputId": "5bc546d9-d38d-40e7-c169-6f85e968ea76"
      },
      "outputs": [
        {
          "output_type": "stream",
          "name": "stdout",
          "text": [
            "      Type  Air temperature [K]  Process temperature [K]  \\\n",
            "0        2                    3                        3   \n",
            "1        1                    3                        3   \n",
            "2        1                    3                        3   \n",
            "3        1                    3                        3   \n",
            "4        1                    3                        3   \n",
            "...    ...                  ...                      ...   \n",
            "9995     2                    2                        3   \n",
            "9996     0                    2                        3   \n",
            "9997     2                    2                        3   \n",
            "9998     0                    2                        3   \n",
            "9999     2                    2                        3   \n",
            "\n",
            "      Rotational speed [rpm]  Torque [Nm]  Tool wear [min]  Target  \n",
            "0                          0            0                3       0  \n",
            "1                          3            0                3       0  \n",
            "2                          2            1                3       0  \n",
            "3                          2            2                3       0  \n",
            "4                          3            2                3       0  \n",
            "...                      ...          ...              ...     ...  \n",
            "9995                       0            3                3       0  \n",
            "9996                       1            3                3       0  \n",
            "9997                       1            2                3       0  \n",
            "9998                       3            1                3       0  \n",
            "9999                       2            0                3       0  \n",
            "\n",
            "[10000 rows x 7 columns]\n"
          ]
        }
      ],
      "source": [
        "# Let's define a function BinFunction that will partition data into 1/k bins\n",
        "\n",
        "def BinFunction(df, labels, k): \n",
        "    for i in range(1,6):\n",
        "        column_i=df[df.columns[i]]\n",
        "        minval_i=column_i.min()\n",
        "        maxval_i=column_i.max()\n",
        "        col_quantiles=column_i.quantile(np.arange(k, 1 , k)).values\n",
        "        break_points = [minval_i]\n",
        "\n",
        "        for j in range(len(col_quantiles)):\n",
        "          break_points.append(col_quantiles[j])\n",
        "\n",
        "        break_points.append(maxval_i)\n",
        "        df[df.columns[i]]=pd.cut(column_i, bins=break_points, labels=labels, include_lowest=True)\n",
        "        df[df.columns[i]].unique()\n",
        "        le=LabelEncoder()\n",
        "        df[df.columns[i]]= le.fit_transform(df[df.columns[i]])\n",
        "    return df\n",
        "\n",
        "# We create labels (names given to labels do not quantify the quality of the value, it just enables to level data)\n",
        "labels_quartiles = ['Very Low','Low', 'Average','High']\n",
        "\n",
        "#And use the function\n",
        "machine_bin=BinFunction(machine.copy(),labels_quartiles, 0.25) #so we have 1/k=4 bins\n",
        "\n",
        "#Encode column 'Type' separately because it's already discrete values\n",
        "label_type=LabelEncoder()\n",
        "machine_bin['Type']=label_type.fit_transform(machine_bin['Type'])\n",
        "\n",
        "print(machine_bin)"
      ]
    },
    {
      "cell_type": "code",
      "execution_count": null,
      "metadata": {
        "colab": {
          "base_uri": "https://localhost:8080/"
        },
        "id": "H6yt4F8yNFqZ",
        "outputId": "c80f289c-c461-4e91-8be6-19aadfc005e3"
      },
      "outputs": [
        {
          "output_type": "stream",
          "name": "stdout",
          "text": [
            "              precision    recall  f1-score   support\n",
            "\n",
            "           0       0.97      0.99      0.98      2410\n",
            "           1       0.31      0.10      0.15        90\n",
            "\n",
            "    accuracy                           0.96      2500\n",
            "   macro avg       0.64      0.55      0.57      2500\n",
            "weighted avg       0.94      0.96      0.95      2500\n",
            "\n",
            "              precision    recall  f1-score   support\n",
            "\n",
            "           0       0.96      0.99      0.98      2405\n",
            "           1       0.22      0.07      0.11        95\n",
            "\n",
            "    accuracy                           0.95      2500\n",
            "   macro avg       0.59      0.53      0.54      2500\n",
            "weighted avg       0.94      0.95      0.94      2500\n",
            "\n",
            "              precision    recall  f1-score   support\n",
            "\n",
            "           0       0.97      0.99      0.98      2407\n",
            "           1       0.28      0.08      0.12        93\n",
            "\n",
            "    accuracy                           0.96      2500\n",
            "   macro avg       0.62      0.53      0.55      2500\n",
            "weighted avg       0.94      0.96      0.95      2500\n",
            "\n",
            "              precision    recall  f1-score   support\n",
            "\n",
            "           0       0.97      0.99      0.98      2415\n",
            "           1       0.30      0.09      0.14        85\n",
            "\n",
            "    accuracy                           0.96      2500\n",
            "   macro avg       0.63      0.54      0.56      2500\n",
            "weighted avg       0.95      0.96      0.95      2500\n",
            "\n"
          ]
        }
      ],
      "source": [
        "#separation training and test\n",
        "\n",
        "X=machine_bin.drop(['Target'],axis=1)\n",
        "y=machine_bin['Target']\n",
        "\n",
        "#Cross-validation\n",
        "for i in range(4):\n",
        "  X_train, X_test, y_train, y_test = train_test_split(X, y, test_size = 0.25)\n",
        "\n",
        "  #We use a Categorical Naive Bayes model\n",
        "  CTclf = CategoricalNB()\n",
        "  CTclf.fit(X_train, y_train)\n",
        "\n",
        "  #Then we evaluate our model\n",
        "  preds = CTclf.predict(X_test)\n",
        "  print(classification_report(y_test,preds))"
      ]
    },
    {
      "cell_type": "markdown",
      "metadata": {
        "id": "nUNM3e5-45zf"
      },
      "source": [
        "####**Model 2: Deciles (10 bins)**"
      ]
    },
    {
      "cell_type": "code",
      "execution_count": null,
      "metadata": {
        "colab": {
          "base_uri": "https://localhost:8080/",
          "height": 206
        },
        "id": "yChLC55CdYVK",
        "outputId": "2411f9e5-91b0-49be-b20c-e7641c1c6e30"
      },
      "outputs": [
        {
          "output_type": "execute_result",
          "data": {
            "text/plain": [
              "   Type  Air temperature [K]  Process temperature [K]  Rotational speed [rpm]  \\\n",
              "0     2                    1                        1                       6   \n",
              "1     1                    2                        2                       2   \n",
              "2     1                    1                        1                       4   \n",
              "3     1                    2                        1                       2   \n",
              "4     1                    2                        2                       2   \n",
              "\n",
              "   Torque [Nm]  Tool wear [min]  Target  \n",
              "0            6                0       0  \n",
              "1            7                0       0  \n",
              "2            8                0       0  \n",
              "3            4                0       0  \n",
              "4            4                0       0  "
            ],
            "text/html": [
              "\n",
              "  <div id=\"df-b98ce67d-256f-4891-b149-17623270057b\">\n",
              "    <div class=\"colab-df-container\">\n",
              "      <div>\n",
              "<style scoped>\n",
              "    .dataframe tbody tr th:only-of-type {\n",
              "        vertical-align: middle;\n",
              "    }\n",
              "\n",
              "    .dataframe tbody tr th {\n",
              "        vertical-align: top;\n",
              "    }\n",
              "\n",
              "    .dataframe thead th {\n",
              "        text-align: right;\n",
              "    }\n",
              "</style>\n",
              "<table border=\"1\" class=\"dataframe\">\n",
              "  <thead>\n",
              "    <tr style=\"text-align: right;\">\n",
              "      <th></th>\n",
              "      <th>Type</th>\n",
              "      <th>Air temperature [K]</th>\n",
              "      <th>Process temperature [K]</th>\n",
              "      <th>Rotational speed [rpm]</th>\n",
              "      <th>Torque [Nm]</th>\n",
              "      <th>Tool wear [min]</th>\n",
              "      <th>Target</th>\n",
              "    </tr>\n",
              "  </thead>\n",
              "  <tbody>\n",
              "    <tr>\n",
              "      <th>0</th>\n",
              "      <td>2</td>\n",
              "      <td>1</td>\n",
              "      <td>1</td>\n",
              "      <td>6</td>\n",
              "      <td>6</td>\n",
              "      <td>0</td>\n",
              "      <td>0</td>\n",
              "    </tr>\n",
              "    <tr>\n",
              "      <th>1</th>\n",
              "      <td>1</td>\n",
              "      <td>2</td>\n",
              "      <td>2</td>\n",
              "      <td>2</td>\n",
              "      <td>7</td>\n",
              "      <td>0</td>\n",
              "      <td>0</td>\n",
              "    </tr>\n",
              "    <tr>\n",
              "      <th>2</th>\n",
              "      <td>1</td>\n",
              "      <td>1</td>\n",
              "      <td>1</td>\n",
              "      <td>4</td>\n",
              "      <td>8</td>\n",
              "      <td>0</td>\n",
              "      <td>0</td>\n",
              "    </tr>\n",
              "    <tr>\n",
              "      <th>3</th>\n",
              "      <td>1</td>\n",
              "      <td>2</td>\n",
              "      <td>1</td>\n",
              "      <td>2</td>\n",
              "      <td>4</td>\n",
              "      <td>0</td>\n",
              "      <td>0</td>\n",
              "    </tr>\n",
              "    <tr>\n",
              "      <th>4</th>\n",
              "      <td>1</td>\n",
              "      <td>2</td>\n",
              "      <td>2</td>\n",
              "      <td>2</td>\n",
              "      <td>4</td>\n",
              "      <td>0</td>\n",
              "      <td>0</td>\n",
              "    </tr>\n",
              "  </tbody>\n",
              "</table>\n",
              "</div>\n",
              "      <button class=\"colab-df-convert\" onclick=\"convertToInteractive('df-b98ce67d-256f-4891-b149-17623270057b')\"\n",
              "              title=\"Convert this dataframe to an interactive table.\"\n",
              "              style=\"display:none;\">\n",
              "        \n",
              "  <svg xmlns=\"http://www.w3.org/2000/svg\" height=\"24px\"viewBox=\"0 0 24 24\"\n",
              "       width=\"24px\">\n",
              "    <path d=\"M0 0h24v24H0V0z\" fill=\"none\"/>\n",
              "    <path d=\"M18.56 5.44l.94 2.06.94-2.06 2.06-.94-2.06-.94-.94-2.06-.94 2.06-2.06.94zm-11 1L8.5 8.5l.94-2.06 2.06-.94-2.06-.94L8.5 2.5l-.94 2.06-2.06.94zm10 10l.94 2.06.94-2.06 2.06-.94-2.06-.94-.94-2.06-.94 2.06-2.06.94z\"/><path d=\"M17.41 7.96l-1.37-1.37c-.4-.4-.92-.59-1.43-.59-.52 0-1.04.2-1.43.59L10.3 9.45l-7.72 7.72c-.78.78-.78 2.05 0 2.83L4 21.41c.39.39.9.59 1.41.59.51 0 1.02-.2 1.41-.59l7.78-7.78 2.81-2.81c.8-.78.8-2.07 0-2.86zM5.41 20L4 18.59l7.72-7.72 1.47 1.35L5.41 20z\"/>\n",
              "  </svg>\n",
              "      </button>\n",
              "      \n",
              "  <style>\n",
              "    .colab-df-container {\n",
              "      display:flex;\n",
              "      flex-wrap:wrap;\n",
              "      gap: 12px;\n",
              "    }\n",
              "\n",
              "    .colab-df-convert {\n",
              "      background-color: #E8F0FE;\n",
              "      border: none;\n",
              "      border-radius: 50%;\n",
              "      cursor: pointer;\n",
              "      display: none;\n",
              "      fill: #1967D2;\n",
              "      height: 32px;\n",
              "      padding: 0 0 0 0;\n",
              "      width: 32px;\n",
              "    }\n",
              "\n",
              "    .colab-df-convert:hover {\n",
              "      background-color: #E2EBFA;\n",
              "      box-shadow: 0px 1px 2px rgba(60, 64, 67, 0.3), 0px 1px 3px 1px rgba(60, 64, 67, 0.15);\n",
              "      fill: #174EA6;\n",
              "    }\n",
              "\n",
              "    [theme=dark] .colab-df-convert {\n",
              "      background-color: #3B4455;\n",
              "      fill: #D2E3FC;\n",
              "    }\n",
              "\n",
              "    [theme=dark] .colab-df-convert:hover {\n",
              "      background-color: #434B5C;\n",
              "      box-shadow: 0px 1px 3px 1px rgba(0, 0, 0, 0.15);\n",
              "      filter: drop-shadow(0px 1px 2px rgba(0, 0, 0, 0.3));\n",
              "      fill: #FFFFFF;\n",
              "    }\n",
              "  </style>\n",
              "\n",
              "      <script>\n",
              "        const buttonEl =\n",
              "          document.querySelector('#df-b98ce67d-256f-4891-b149-17623270057b button.colab-df-convert');\n",
              "        buttonEl.style.display =\n",
              "          google.colab.kernel.accessAllowed ? 'block' : 'none';\n",
              "\n",
              "        async function convertToInteractive(key) {\n",
              "          const element = document.querySelector('#df-b98ce67d-256f-4891-b149-17623270057b');\n",
              "          const dataTable =\n",
              "            await google.colab.kernel.invokeFunction('convertToInteractive',\n",
              "                                                     [key], {});\n",
              "          if (!dataTable) return;\n",
              "\n",
              "          const docLinkHtml = 'Like what you see? Visit the ' +\n",
              "            '<a target=\"_blank\" href=https://colab.research.google.com/notebooks/data_table.ipynb>data table notebook</a>'\n",
              "            + ' to learn more about interactive tables.';\n",
              "          element.innerHTML = '';\n",
              "          dataTable['output_type'] = 'display_data';\n",
              "          await google.colab.output.renderOutput(dataTable, element);\n",
              "          const docLink = document.createElement('div');\n",
              "          docLink.innerHTML = docLinkHtml;\n",
              "          element.appendChild(docLink);\n",
              "        }\n",
              "      </script>\n",
              "    </div>\n",
              "  </div>\n",
              "  "
            ]
          },
          "metadata": {},
          "execution_count": 7
        }
      ],
      "source": [
        "# We create another specific label with 10 categories\n",
        "labels_decile = ['A' + str(i) for i in range(10) ]\n",
        "\n",
        "#And use the function\n",
        "machine_bin_2=BinFunction(machine.copy(),labels_decile,0.1)\n",
        "\n",
        "#Encode column 'Type' separately because it's already discrete values\n",
        "label_type=LabelEncoder()\n",
        "machine_bin_2['Type']=label_type.fit_transform(machine_bin_2['Type'])\n",
        "\n",
        "machine_bin_2.head()"
      ]
    },
    {
      "cell_type": "code",
      "execution_count": null,
      "metadata": {
        "colab": {
          "base_uri": "https://localhost:8080/"
        },
        "id": "VutyKnYt5Ezc",
        "outputId": "041ea43b-6843-44bf-d590-4fdc74b37b1e"
      },
      "outputs": [
        {
          "output_type": "stream",
          "name": "stdout",
          "text": [
            "              precision    recall  f1-score   support\n",
            "\n",
            "           0       0.98      0.98      0.98      2425\n",
            "           1       0.36      0.35      0.35        75\n",
            "\n",
            "    accuracy                           0.96      2500\n",
            "   macro avg       0.67      0.66      0.67      2500\n",
            "weighted avg       0.96      0.96      0.96      2500\n",
            "\n"
          ]
        }
      ],
      "source": [
        "#separation training and test\n",
        "\n",
        "X=machine_bin_2.drop(['Target'],axis=1)\n",
        "y=machine_bin_2['Target']\n",
        "X_train, X_test, y_train, y_test = train_test_split(X, y, test_size = 0.25)\n",
        "\n",
        "#We use a Categorical Naive Bayes model\n",
        "CTclf = CategoricalNB()\n",
        "CTclf.fit(X_train, y_train)\n",
        "\n",
        "#Then we evaluate our model\n",
        "preds = CTclf.predict(X_test)\n",
        "print(classification_report(y_test,preds))"
      ]
    },
    {
      "cell_type": "markdown",
      "metadata": {
        "id": "qLXUH2o_Qq8x"
      },
      "source": [
        "####**Model 3: 20 bins**"
      ]
    },
    {
      "cell_type": "code",
      "execution_count": null,
      "metadata": {
        "colab": {
          "base_uri": "https://localhost:8080/",
          "height": 206
        },
        "id": "lKtpcqKCQrHx",
        "outputId": "04aacf9e-ebf6-420a-cc5e-ec85badc1130"
      },
      "outputs": [
        {
          "output_type": "execute_result",
          "data": {
            "text/plain": [
              "   Type  Air temperature [K]  Process temperature [K]  Rotational speed [rpm]  \\\n",
              "0     2                   13                       13                       4   \n",
              "1     1                   14                       14                      14   \n",
              "2     1                   13                       13                      19   \n",
              "3     1                   14                       13                      15   \n",
              "4     1                   14                       14                      14   \n",
              "\n",
              "   Torque [Nm]  Tool wear [min]  Target  \n",
              "0            4                0       0  \n",
              "1            6                0       0  \n",
              "2            8                0       0  \n",
              "3           19                0       0  \n",
              "4           19                0       0  "
            ],
            "text/html": [
              "\n",
              "  <div id=\"df-57053a39-76c6-41ad-bbd8-434f99b91bae\">\n",
              "    <div class=\"colab-df-container\">\n",
              "      <div>\n",
              "<style scoped>\n",
              "    .dataframe tbody tr th:only-of-type {\n",
              "        vertical-align: middle;\n",
              "    }\n",
              "\n",
              "    .dataframe tbody tr th {\n",
              "        vertical-align: top;\n",
              "    }\n",
              "\n",
              "    .dataframe thead th {\n",
              "        text-align: right;\n",
              "    }\n",
              "</style>\n",
              "<table border=\"1\" class=\"dataframe\">\n",
              "  <thead>\n",
              "    <tr style=\"text-align: right;\">\n",
              "      <th></th>\n",
              "      <th>Type</th>\n",
              "      <th>Air temperature [K]</th>\n",
              "      <th>Process temperature [K]</th>\n",
              "      <th>Rotational speed [rpm]</th>\n",
              "      <th>Torque [Nm]</th>\n",
              "      <th>Tool wear [min]</th>\n",
              "      <th>Target</th>\n",
              "    </tr>\n",
              "  </thead>\n",
              "  <tbody>\n",
              "    <tr>\n",
              "      <th>0</th>\n",
              "      <td>2</td>\n",
              "      <td>13</td>\n",
              "      <td>13</td>\n",
              "      <td>4</td>\n",
              "      <td>4</td>\n",
              "      <td>0</td>\n",
              "      <td>0</td>\n",
              "    </tr>\n",
              "    <tr>\n",
              "      <th>1</th>\n",
              "      <td>1</td>\n",
              "      <td>14</td>\n",
              "      <td>14</td>\n",
              "      <td>14</td>\n",
              "      <td>6</td>\n",
              "      <td>0</td>\n",
              "      <td>0</td>\n",
              "    </tr>\n",
              "    <tr>\n",
              "      <th>2</th>\n",
              "      <td>1</td>\n",
              "      <td>13</td>\n",
              "      <td>13</td>\n",
              "      <td>19</td>\n",
              "      <td>8</td>\n",
              "      <td>0</td>\n",
              "      <td>0</td>\n",
              "    </tr>\n",
              "    <tr>\n",
              "      <th>3</th>\n",
              "      <td>1</td>\n",
              "      <td>14</td>\n",
              "      <td>13</td>\n",
              "      <td>15</td>\n",
              "      <td>19</td>\n",
              "      <td>0</td>\n",
              "      <td>0</td>\n",
              "    </tr>\n",
              "    <tr>\n",
              "      <th>4</th>\n",
              "      <td>1</td>\n",
              "      <td>14</td>\n",
              "      <td>14</td>\n",
              "      <td>14</td>\n",
              "      <td>19</td>\n",
              "      <td>0</td>\n",
              "      <td>0</td>\n",
              "    </tr>\n",
              "  </tbody>\n",
              "</table>\n",
              "</div>\n",
              "      <button class=\"colab-df-convert\" onclick=\"convertToInteractive('df-57053a39-76c6-41ad-bbd8-434f99b91bae')\"\n",
              "              title=\"Convert this dataframe to an interactive table.\"\n",
              "              style=\"display:none;\">\n",
              "        \n",
              "  <svg xmlns=\"http://www.w3.org/2000/svg\" height=\"24px\"viewBox=\"0 0 24 24\"\n",
              "       width=\"24px\">\n",
              "    <path d=\"M0 0h24v24H0V0z\" fill=\"none\"/>\n",
              "    <path d=\"M18.56 5.44l.94 2.06.94-2.06 2.06-.94-2.06-.94-.94-2.06-.94 2.06-2.06.94zm-11 1L8.5 8.5l.94-2.06 2.06-.94-2.06-.94L8.5 2.5l-.94 2.06-2.06.94zm10 10l.94 2.06.94-2.06 2.06-.94-2.06-.94-.94-2.06-.94 2.06-2.06.94z\"/><path d=\"M17.41 7.96l-1.37-1.37c-.4-.4-.92-.59-1.43-.59-.52 0-1.04.2-1.43.59L10.3 9.45l-7.72 7.72c-.78.78-.78 2.05 0 2.83L4 21.41c.39.39.9.59 1.41.59.51 0 1.02-.2 1.41-.59l7.78-7.78 2.81-2.81c.8-.78.8-2.07 0-2.86zM5.41 20L4 18.59l7.72-7.72 1.47 1.35L5.41 20z\"/>\n",
              "  </svg>\n",
              "      </button>\n",
              "      \n",
              "  <style>\n",
              "    .colab-df-container {\n",
              "      display:flex;\n",
              "      flex-wrap:wrap;\n",
              "      gap: 12px;\n",
              "    }\n",
              "\n",
              "    .colab-df-convert {\n",
              "      background-color: #E8F0FE;\n",
              "      border: none;\n",
              "      border-radius: 50%;\n",
              "      cursor: pointer;\n",
              "      display: none;\n",
              "      fill: #1967D2;\n",
              "      height: 32px;\n",
              "      padding: 0 0 0 0;\n",
              "      width: 32px;\n",
              "    }\n",
              "\n",
              "    .colab-df-convert:hover {\n",
              "      background-color: #E2EBFA;\n",
              "      box-shadow: 0px 1px 2px rgba(60, 64, 67, 0.3), 0px 1px 3px 1px rgba(60, 64, 67, 0.15);\n",
              "      fill: #174EA6;\n",
              "    }\n",
              "\n",
              "    [theme=dark] .colab-df-convert {\n",
              "      background-color: #3B4455;\n",
              "      fill: #D2E3FC;\n",
              "    }\n",
              "\n",
              "    [theme=dark] .colab-df-convert:hover {\n",
              "      background-color: #434B5C;\n",
              "      box-shadow: 0px 1px 3px 1px rgba(0, 0, 0, 0.15);\n",
              "      filter: drop-shadow(0px 1px 2px rgba(0, 0, 0, 0.3));\n",
              "      fill: #FFFFFF;\n",
              "    }\n",
              "  </style>\n",
              "\n",
              "      <script>\n",
              "        const buttonEl =\n",
              "          document.querySelector('#df-57053a39-76c6-41ad-bbd8-434f99b91bae button.colab-df-convert');\n",
              "        buttonEl.style.display =\n",
              "          google.colab.kernel.accessAllowed ? 'block' : 'none';\n",
              "\n",
              "        async function convertToInteractive(key) {\n",
              "          const element = document.querySelector('#df-57053a39-76c6-41ad-bbd8-434f99b91bae');\n",
              "          const dataTable =\n",
              "            await google.colab.kernel.invokeFunction('convertToInteractive',\n",
              "                                                     [key], {});\n",
              "          if (!dataTable) return;\n",
              "\n",
              "          const docLinkHtml = 'Like what you see? Visit the ' +\n",
              "            '<a target=\"_blank\" href=https://colab.research.google.com/notebooks/data_table.ipynb>data table notebook</a>'\n",
              "            + ' to learn more about interactive tables.';\n",
              "          element.innerHTML = '';\n",
              "          dataTable['output_type'] = 'display_data';\n",
              "          await google.colab.output.renderOutput(dataTable, element);\n",
              "          const docLink = document.createElement('div');\n",
              "          docLink.innerHTML = docLinkHtml;\n",
              "          element.appendChild(docLink);\n",
              "        }\n",
              "      </script>\n",
              "    </div>\n",
              "  </div>\n",
              "  "
            ]
          },
          "metadata": {},
          "execution_count": 9
        }
      ],
      "source": [
        "# We create another specific label with 100 categories\n",
        "labels_20bins = ['A' + str(i) for i in range(20) ]\n",
        "\n",
        "#And use the function\n",
        "machine_bin_3=BinFunction(machine.copy(),labels_20bins,0.05)\n",
        "\n",
        "#Encode column 'Type' separately because it's already discrete values\n",
        "label_type=LabelEncoder()\n",
        "machine_bin_3['Type']=label_type.fit_transform(machine_bin_3['Type'])\n",
        "\n",
        "machine_bin_3.head()"
      ]
    },
    {
      "cell_type": "markdown",
      "metadata": {
        "id": "agJvNq3kXeOY"
      },
      "source": []
    },
    {
      "cell_type": "code",
      "execution_count": null,
      "metadata": {
        "colab": {
          "base_uri": "https://localhost:8080/"
        },
        "id": "EHnG-lClXe5j",
        "outputId": "33b2f5a7-4877-46fc-fc91-a0342bce2009"
      },
      "outputs": [
        {
          "output_type": "stream",
          "name": "stdout",
          "text": [
            "              precision    recall  f1-score   support\n",
            "\n",
            "           0       0.98      0.98      0.98      2420\n",
            "           1       0.35      0.34      0.34        80\n",
            "\n",
            "    accuracy                           0.96      2500\n",
            "   macro avg       0.66      0.66      0.66      2500\n",
            "weighted avg       0.96      0.96      0.96      2500\n",
            "\n"
          ]
        }
      ],
      "source": [
        "#separation training and test\n",
        "\n",
        "X=machine_bin_2.drop(['Target'],axis=1)\n",
        "y=machine_bin_2['Target']\n",
        "X_train, X_test, y_train, y_test = train_test_split(X, y, test_size = 0.25)\n",
        "\n",
        "#We use a Categorical Naive Bayes model\n",
        "CTclf = CategoricalNB()\n",
        "CTclf.fit(X_train, y_train)\n",
        "\n",
        "#Then we evaluate our model\n",
        "preds = CTclf.predict(X_test)\n",
        "print(classification_report(y_test,preds))"
      ]
    },
    {
      "cell_type": "markdown",
      "metadata": {
        "id": "gM_uecj_Ca1t"
      },
      "source": [
        "###5.1.4 **Model 4: Categorical model (with rebalanced dataset)**"
      ]
    },
    {
      "cell_type": "markdown",
      "metadata": {
        "id": "-MqZdRjYJmSe"
      },
      "source": [
        "However, if we have a look at our target we notice that this one is **really unbalanced**. The bias comes from the fact that the population of **dysfunctional machines is under-represented**."
      ]
    },
    {
      "cell_type": "code",
      "execution_count": null,
      "metadata": {
        "colab": {
          "base_uri": "https://localhost:8080/",
          "height": 352
        },
        "id": "zU5ASwg6KxjO",
        "outputId": "3d1ed152-148a-4598-fcc7-9617adab27da"
      },
      "outputs": [
        {
          "output_type": "stream",
          "name": "stderr",
          "text": [
            "/usr/local/lib/python3.7/dist-packages/seaborn/_decorators.py:43: FutureWarning: Pass the following variable as a keyword arg: x. From version 0.12, the only valid positional argument will be `data`, and passing other arguments without an explicit keyword will result in an error or misinterpretation.\n",
            "  FutureWarning\n"
          ]
        },
        {
          "output_type": "execute_result",
          "data": {
            "text/plain": [
              "<matplotlib.axes._subplots.AxesSubplot at 0x7faf04de9c90>"
            ]
          },
          "metadata": {},
          "execution_count": 11
        },
        {
          "output_type": "display_data",
          "data": {
            "text/plain": [
              "<Figure size 432x288 with 1 Axes>"
            ],
            "image/png": "[encoded data removed]"
          },
          "metadata": {
            "needs_background": "light"
          }
        }
      ],
      "source": [
        "sns.countplot(machine['Target'])"
      ]
    },
    {
      "cell_type": "markdown",
      "metadata": {
        "id": "nyznihxCLDbY"
      },
      "source": [
        "To partially solve this issue, without loosing too much data concerning function machines, **we are going to rebalance the dataset by removing rows of functional machines**. This removal has to be **random**, because we noticed that the dataset is partially ordered so we can't remove the first 9000 rows (matching the functional condition 'Target'= 0)  for example, it would biais the dataset. It corresponds to a \"balance situation\" (only **2x times** more functional machines than non-functional, instead of **28x times** at the beggining). That's why we **shuffle** our dataset before removing rows."
      ]
    },
    {
      "cell_type": "code",
      "execution_count": null,
      "metadata": {
        "colab": {
          "base_uri": "https://localhost:8080/"
        },
        "id": "yGXtp81qGX40",
        "outputId": "116b8fe7-355c-44d6-9d84-11fd46ba9a3e"
      },
      "outputs": [
        {
          "output_type": "stream",
          "name": "stdout",
          "text": [
            "              precision    recall  f1-score   support\n",
            "\n",
            "           0       0.98      0.98      0.98       321\n",
            "           1       0.25      0.22      0.24         9\n",
            "\n",
            "    accuracy                           0.96       330\n",
            "   macro avg       0.61      0.60      0.61       330\n",
            "weighted avg       0.96      0.96      0.96       330\n",
            "\n",
            "              precision    recall  f1-score   support\n",
            "\n",
            "           0       0.98      0.98      0.98       320\n",
            "           1       0.22      0.20      0.21        10\n",
            "\n",
            "    accuracy                           0.95       330\n",
            "   macro avg       0.60      0.59      0.59       330\n",
            "weighted avg       0.95      0.95      0.95       330\n",
            "\n",
            "              precision    recall  f1-score   support\n",
            "\n",
            "           0       0.99      0.98      0.98       321\n",
            "           1       0.45      0.56      0.50         9\n",
            "\n",
            "    accuracy                           0.97       330\n",
            "   macro avg       0.72      0.77      0.74       330\n",
            "weighted avg       0.97      0.97      0.97       330\n",
            "\n",
            "              precision    recall  f1-score   support\n",
            "\n",
            "           0       0.98      0.98      0.98       319\n",
            "           1       0.33      0.27      0.30        11\n",
            "\n",
            "    accuracy                           0.96       330\n",
            "   macro avg       0.65      0.63      0.64       330\n",
            "weighted avg       0.95      0.96      0.96       330\n",
            "\n"
          ]
        }
      ],
      "source": [
        "# We shuffle the dataset and remove rows matching the condition Target=0 (which defines functional machines)\n",
        "\n",
        "machine_reducedNB2=machine.copy()\n",
        "machine_reducedNB2=shuffle(machine_reducedNB2)\n",
        "\n",
        "sample=machine.iloc[1:9000,:]\n",
        "upper = np.where(sample['Target'] == 0)\n",
        "machine_reducedNB2.drop(upper[0], inplace = True)\n",
        "\n",
        "machine_bin_reduced=BinFunction(machine_reducedNB2.copy(),labels_quartiles,0.25)\n",
        "\n",
        "#Encode column 'Type' separately because it's already discrete values\n",
        "label_type=LabelEncoder()\n",
        "machine_bin_reduced['Type']=label_type.fit_transform(machine_bin_reduced['Type'])\n",
        "\n",
        "#separation training and test\n",
        "\n",
        "X=machine_bin_reduced.drop(['Target'],axis=1)\n",
        "y=machine_bin_reduced['Target']\n",
        "\n",
        "for i in range(4):\n",
        "  X_train, X_test, y_train, y_test = train_test_split(X, y, test_size = 0.25)\n",
        "\n",
        "  #We use a Categorical Naive Bayes model\n",
        "  CTclf = CategoricalNB()\n",
        "  CTclf.fit(X_train, y_train)\n",
        "\n",
        "  #Then we evaluate our model\n",
        "  preds = CTclf.predict(X_test)\n",
        "  print(classification_report(y_test,preds))"
      ]
    },
    {
      "cell_type": "markdown",
      "metadata": {
        "id": "NKCwTRzDXpaz"
      },
      "source": [
        "The rebalanced data model provides more satisfying results: removing 9000 values out of 9661, to have a dataset of *661 functional machines* (regarding the target) and *339 non-functional machines* **increase in average the precision by 20% and recall by 30%**"
      ]
    },
    {
      "cell_type": "markdown",
      "metadata": {
        "id": "_6yhDp-_On8f"
      },
      "source": [
        "##5.2 **Logistic Regression**"
      ]
    },
    {
      "cell_type": "markdown",
      "metadata": {
        "id": "EnrvxvSl_NAD"
      },
      "source": [
        "####5.2.1 Model 1: Basic Logistic Regression"
      ]
    },
    {
      "cell_type": "code",
      "execution_count": null,
      "metadata": {
        "colab": {
          "base_uri": "https://localhost:8080/",
          "height": 675
        },
        "id": "5_-PtmqoMZyt",
        "outputId": "339911b7-546c-414a-fedd-7ba432729f19"
      },
      "outputs": [
        {
          "output_type": "stream",
          "name": "stdout",
          "text": [
            "      Type  Air temperature [K]  Process temperature [K]  \\\n",
            "0        2                298.1                    308.6   \n",
            "1        1                298.2                    308.7   \n",
            "2        1                298.1                    308.5   \n",
            "3        1                298.2                    308.6   \n",
            "4        1                298.2                    308.7   \n",
            "...    ...                  ...                      ...   \n",
            "9995     2                298.8                    308.4   \n",
            "9996     0                298.9                    308.4   \n",
            "9997     2                299.0                    308.6   \n",
            "9998     0                299.0                    308.7   \n",
            "9999     2                299.0                    308.7   \n",
            "\n",
            "      Rotational speed [rpm]  Torque [Nm]  Tool wear [min]  Target  \n",
            "0                       1551         42.8                0       0  \n",
            "1                       1408         46.3                3       0  \n",
            "2                       1498         49.4                5       0  \n",
            "3                       1433         39.5                7       0  \n",
            "4                       1408         40.0                9       0  \n",
            "...                      ...          ...              ...     ...  \n",
            "9995                    1604         29.5               14       0  \n",
            "9996                    1632         31.8               17       0  \n",
            "9997                    1645         33.4               22       0  \n",
            "9998                    1408         48.5               25       0  \n",
            "9999                    1500         40.2               30       0  \n",
            "\n",
            "[10000 rows x 7 columns]\n"
          ]
        },
        {
          "output_type": "execute_result",
          "data": {
            "text/plain": [
              "      Type  Air temperature [K]  Process temperature [K]  \\\n",
              "7191     1                300.3                    310.3   \n",
              "2584     1                299.1                    308.8   \n",
              "1400     0                298.9                    310.1   \n",
              "8644     2                297.6                    308.5   \n",
              "2122     2                299.2                    308.8   \n",
              "\n",
              "      Rotational speed [rpm]  Torque [Nm]  Tool wear [min]  \n",
              "7191                    1629         34.1               52  \n",
              "2584                    1502         46.7              197  \n",
              "1400                    1366         62.7              161  \n",
              "8644                    1443         38.2               85  \n",
              "2122                    1523         38.9              112  "
            ],
            "text/html": [
              "\n",
              "  <div id=\"df-25acec7e-1723-4d40-aae3-1e7689e2b97e\">\n",
              "    <div class=\"colab-df-container\">\n",
              "      <div>\n",
              "<style scoped>\n",
              "    .dataframe tbody tr th:only-of-type {\n",
              "        vertical-align: middle;\n",
              "    }\n",
              "\n",
              "    .dataframe tbody tr th {\n",
              "        vertical-align: top;\n",
              "    }\n",
              "\n",
              "    .dataframe thead th {\n",
              "        text-align: right;\n",
              "    }\n",
              "</style>\n",
              "<table border=\"1\" class=\"dataframe\">\n",
              "  <thead>\n",
              "    <tr style=\"text-align: right;\">\n",
              "      <th></th>\n",
              "      <th>Type</th>\n",
              "      <th>Air temperature [K]</th>\n",
              "      <th>Process temperature [K]</th>\n",
              "      <th>Rotational speed [rpm]</th>\n",
              "      <th>Torque [Nm]</th>\n",
              "      <th>Tool wear [min]</th>\n",
              "    </tr>\n",
              "  </thead>\n",
              "  <tbody>\n",
              "    <tr>\n",
              "      <th>7191</th>\n",
              "      <td>1</td>\n",
              "      <td>300.3</td>\n",
              "      <td>310.3</td>\n",
              "      <td>1629</td>\n",
              "      <td>34.1</td>\n",
              "      <td>52</td>\n",
              "    </tr>\n",
              "    <tr>\n",
              "      <th>2584</th>\n",
              "      <td>1</td>\n",
              "      <td>299.1</td>\n",
              "      <td>308.8</td>\n",
              "      <td>1502</td>\n",
              "      <td>46.7</td>\n",
              "      <td>197</td>\n",
              "    </tr>\n",
              "    <tr>\n",
              "      <th>1400</th>\n",
              "      <td>0</td>\n",
              "      <td>298.9</td>\n",
              "      <td>310.1</td>\n",
              "      <td>1366</td>\n",
              "      <td>62.7</td>\n",
              "      <td>161</td>\n",
              "    </tr>\n",
              "    <tr>\n",
              "      <th>8644</th>\n",
              "      <td>2</td>\n",
              "      <td>297.6</td>\n",
              "      <td>308.5</td>\n",
              "      <td>1443</td>\n",
              "      <td>38.2</td>\n",
              "      <td>85</td>\n",
              "    </tr>\n",
              "    <tr>\n",
              "      <th>2122</th>\n",
              "      <td>2</td>\n",
              "      <td>299.2</td>\n",
              "      <td>308.8</td>\n",
              "      <td>1523</td>\n",
              "      <td>38.9</td>\n",
              "      <td>112</td>\n",
              "    </tr>\n",
              "  </tbody>\n",
              "</table>\n",
              "</div>\n",
              "      <button class=\"colab-df-convert\" onclick=\"convertToInteractive('df-25acec7e-1723-4d40-aae3-1e7689e2b97e')\"\n",
              "              title=\"Convert this dataframe to an interactive table.\"\n",
              "              style=\"display:none;\">\n",
              "        \n",
              "  <svg xmlns=\"http://www.w3.org/2000/svg\" height=\"24px\"viewBox=\"0 0 24 24\"\n",
              "       width=\"24px\">\n",
              "    <path d=\"M0 0h24v24H0V0z\" fill=\"none\"/>\n",
              "    <path d=\"M18.56 5.44l.94 2.06.94-2.06 2.06-.94-2.06-.94-.94-2.06-.94 2.06-2.06.94zm-11 1L8.5 8.5l.94-2.06 2.06-.94-2.06-.94L8.5 2.5l-.94 2.06-2.06.94zm10 10l.94 2.06.94-2.06 2.06-.94-2.06-.94-.94-2.06-.94 2.06-2.06.94z\"/><path d=\"M17.41 7.96l-1.37-1.37c-.4-.4-.92-.59-1.43-.59-.52 0-1.04.2-1.43.59L10.3 9.45l-7.72 7.72c-.78.78-.78 2.05 0 2.83L4 21.41c.39.39.9.59 1.41.59.51 0 1.02-.2 1.41-.59l7.78-7.78 2.81-2.81c.8-.78.8-2.07 0-2.86zM5.41 20L4 18.59l7.72-7.72 1.47 1.35L5.41 20z\"/>\n",
              "  </svg>\n",
              "      </button>\n",
              "      \n",
              "  <style>\n",
              "    .colab-df-container {\n",
              "      display:flex;\n",
              "      flex-wrap:wrap;\n",
              "      gap: 12px;\n",
              "    }\n",
              "\n",
              "    .colab-df-convert {\n",
              "      background-color: #E8F0FE;\n",
              "      border: none;\n",
              "      border-radius: 50%;\n",
              "      cursor: pointer;\n",
              "      display: none;\n",
              "      fill: #1967D2;\n",
              "      height: 32px;\n",
              "      padding: 0 0 0 0;\n",
              "      width: 32px;\n",
              "    }\n",
              "\n",
              "    .colab-df-convert:hover {\n",
              "      background-color: #E2EBFA;\n",
              "      box-shadow: 0px 1px 2px rgba(60, 64, 67, 0.3), 0px 1px 3px 1px rgba(60, 64, 67, 0.15);\n",
              "      fill: #174EA6;\n",
              "    }\n",
              "\n",
              "    [theme=dark] .colab-df-convert {\n",
              "      background-color: #3B4455;\n",
              "      fill: #D2E3FC;\n",
              "    }\n",
              "\n",
              "    [theme=dark] .colab-df-convert:hover {\n",
              "      background-color: #434B5C;\n",
              "      box-shadow: 0px 1px 3px 1px rgba(0, 0, 0, 0.15);\n",
              "      filter: drop-shadow(0px 1px 2px rgba(0, 0, 0, 0.3));\n",
              "      fill: #FFFFFF;\n",
              "    }\n",
              "  </style>\n",
              "\n",
              "      <script>\n",
              "        const buttonEl =\n",
              "          document.querySelector('#df-25acec7e-1723-4d40-aae3-1e7689e2b97e button.colab-df-convert');\n",
              "        buttonEl.style.display =\n",
              "          google.colab.kernel.accessAllowed ? 'block' : 'none';\n",
              "\n",
              "        async function convertToInteractive(key) {\n",
              "          const element = document.querySelector('#df-25acec7e-1723-4d40-aae3-1e7689e2b97e');\n",
              "          const dataTable =\n",
              "            await google.colab.kernel.invokeFunction('convertToInteractive',\n",
              "                                                     [key], {});\n",
              "          if (!dataTable) return;\n",
              "\n",
              "          const docLinkHtml = 'Like what you see? Visit the ' +\n",
              "            '<a target=\"_blank\" href=https://colab.research.google.com/notebooks/data_table.ipynb>data table notebook</a>'\n",
              "            + ' to learn more about interactive tables.';\n",
              "          element.innerHTML = '';\n",
              "          dataTable['output_type'] = 'display_data';\n",
              "          await google.colab.output.renderOutput(dataTable, element);\n",
              "          const docLink = document.createElement('div');\n",
              "          docLink.innerHTML = docLinkHtml;\n",
              "          element.appendChild(docLink);\n",
              "        }\n",
              "      </script>\n",
              "    </div>\n",
              "  </div>\n",
              "  "
            ]
          },
          "metadata": {},
          "execution_count": 13
        }
      ],
      "source": [
        "#separation training and test\n",
        "machine_data=machine.copy()\n",
        "print(machine_data)\n",
        "attributes=machine_data.drop(['Target'], axis =1)\n",
        "target=machine_data['Target']\n",
        "attributes_training, attributes_test, target_training, target_test = train_test_split(attributes, target, test_size = 0.1, random_state =34 )\n",
        "attributes_training.head()"
      ]
    },
    {
      "cell_type": "code",
      "execution_count": null,
      "metadata": {
        "colab": {
          "base_uri": "https://localhost:8080/"
        },
        "id": "lWBNYaMxMZ1J",
        "outputId": "16c2cf2b-35aa-4144-a9e5-b9117b05e637"
      },
      "outputs": [
        {
          "output_type": "stream",
          "name": "stdout",
          "text": [
            "      Type  Air temperature [K]  Process temperature [K]  \\\n",
            "7191     1                300.3                    310.3   \n",
            "2584     1                299.1                    308.8   \n",
            "1400     0                298.9                    310.1   \n",
            "8644     2                297.6                    308.5   \n",
            "2122     2                299.2                    308.8   \n",
            "...    ...                  ...                      ...   \n",
            "5667     1                302.2                    311.4   \n",
            "324      2                297.8                    308.5   \n",
            "3157     2                300.4                    309.7   \n",
            "5993     2                300.7                    310.6   \n",
            "5242     1                303.7                    313.1   \n",
            "\n",
            "      Rotational speed [rpm]  Torque [Nm]  Tool wear [min]  \n",
            "7191                    1629         34.1               52  \n",
            "2584                    1502         46.7              197  \n",
            "1400                    1366         62.7              161  \n",
            "8644                    1443         38.2               85  \n",
            "2122                    1523         38.9              112  \n",
            "...                      ...          ...              ...  \n",
            "5667                    2080         19.2               31  \n",
            "324                     1488         41.9              196  \n",
            "3157                    1488         42.2              133  \n",
            "5993                    1407         42.4              218  \n",
            "5242                    1496         47.4               48  \n",
            "\n",
            "[9000 rows x 6 columns]\n"
          ]
        }
      ],
      "source": [
        "#Normalize the values of each columns\n",
        "\n",
        "sc=StandardScaler()\n",
        "attributes_training_normalized = sc.fit_transform(attributes_training)\n",
        "attributes_test_normalized = sc.transform(attributes_test)\n",
        "print(attributes_training)"
      ]
    },
    {
      "cell_type": "code",
      "execution_count": null,
      "metadata": {
        "colab": {
          "base_uri": "https://localhost:8080/"
        },
        "id": "bvFxQgZFMZ3n",
        "outputId": "29805198-d5ca-4ae9-c440-06512ec8adc7"
      },
      "outputs": [
        {
          "output_type": "stream",
          "name": "stdout",
          "text": [
            "              precision    recall  f1-score   support\n",
            "\n",
            "           0       0.97      1.00      0.98       964\n",
            "           1       0.67      0.17      0.27        36\n",
            "\n",
            "    accuracy                           0.97      1000\n",
            "   macro avg       0.82      0.58      0.62      1000\n",
            "weighted avg       0.96      0.97      0.96      1000\n",
            "\n"
          ]
        }
      ],
      "source": [
        "#Create and run the LogisticRegression Model\n",
        "\n",
        "modelLR = LogisticRegression()\n",
        "modelLR.fit(attributes_training_normalized,target_training)\n",
        "prediction_test_normalized = modelLR.predict(attributes_test_normalized)\n",
        "print(classification_report(target_test, prediction_test_normalized))"
      ]
    },
    {
      "cell_type": "markdown",
      "metadata": {
        "id": "VwstLF6K-rRa"
      },
      "source": [
        "####5.2.2 Model 2: Logistic Regression **(without standardisation)**"
      ]
    },
    {
      "cell_type": "markdown",
      "metadata": {
        "id": "0YzeHthtOrev"
      },
      "source": [
        "Let's see if the standardization has a real impact on the results: we will train our datset with LR and MLP without standardisating the data and notice if there is any difference."
      ]
    },
    {
      "cell_type": "code",
      "execution_count": null,
      "metadata": {
        "colab": {
          "base_uri": "https://localhost:8080/"
        },
        "id": "wtXqrDyxRS7N",
        "outputId": "c6952c72-bb69-4377-e546-a8710d2dd517"
      },
      "outputs": [
        {
          "output_type": "stream",
          "name": "stdout",
          "text": [
            "              precision    recall  f1-score   support\n",
            "\n",
            "           0       0.97      1.00      0.98       964\n",
            "           1       0.78      0.19      0.31        36\n",
            "\n",
            "    accuracy                           0.97      1000\n",
            "   macro avg       0.87      0.60      0.65      1000\n",
            "weighted avg       0.96      0.97      0.96      1000\n",
            "\n"
          ]
        }
      ],
      "source": [
        "#Compare to the results without the standardisation\n",
        "\n",
        "modelLR = LogisticRegression()\n",
        "modelLR.fit(attributes_training,target_training)\n",
        "prediction_test = modelLR.predict(attributes_test)\n",
        "print(classification_report(target_test, prediction_test))"
      ]
    },
    {
      "cell_type": "code",
      "execution_count": null,
      "metadata": {
        "colab": {
          "base_uri": "https://localhost:8080/"
        },
        "id": "PPXC683qRcv8",
        "outputId": "cf9f60d9-f1a1-4f28-d7c7-aaadd6a50f13"
      },
      "outputs": [
        {
          "output_type": "stream",
          "name": "stdout",
          "text": [
            "Type                      -0.047972\n",
            "Air temperature [K]        0.854748\n",
            "Process temperature [K]   -0.942071\n",
            "Rotational speed [rpm]     0.011674\n",
            "Torque [Nm]                0.283668\n",
            "Tool wear [min]            0.013227\n",
            "dtype: float64\n"
          ]
        }
      ],
      "source": [
        "#What weights impact the most the result\n",
        "\n",
        "weights = pd.Series(modelLR.coef_[0], index=attributes.columns.values)\n",
        "print(weights)"
      ]
    },
    {
      "cell_type": "markdown",
      "metadata": {
        "id": "Wxxf3uxv_ayI"
      },
      "source": [
        "##5.3 **Multilayer Perceptron**"
      ]
    },
    {
      "cell_type": "markdown",
      "metadata": {
        "id": "5tPPjH4aAOe-"
      },
      "source": [
        "####5.3.1 Model 1: Multilayer Perceptron **(with Standardization)**"
      ]
    },
    {
      "cell_type": "code",
      "execution_count": null,
      "metadata": {
        "colab": {
          "base_uri": "https://localhost:8080/"
        },
        "id": "SH63LncSRfEA",
        "outputId": "4c68a9e1-21d5-4fd3-d0b1-72ccf3517c14"
      },
      "outputs": [
        {
          "output_type": "stream",
          "name": "stdout",
          "text": [
            "              precision    recall  f1-score   support\n",
            "\n",
            "           0       0.98      0.99      0.99       964\n",
            "           1       0.76      0.53      0.62        36\n",
            "\n",
            "    accuracy                           0.98      1000\n",
            "   macro avg       0.87      0.76      0.81      1000\n",
            "weighted avg       0.97      0.98      0.97      1000\n",
            "\n"
          ]
        }
      ],
      "source": [
        "#Create and run the MLP Model\n",
        "\n",
        "modelMLP = neural_network.MLPClassifier(max_iter=50000)\n",
        "modelMLP.fit(attributes_training_normalized,target_training)\n",
        "target_prediction_normalized = modelMLP.predict(attributes_test_normalized)\n",
        "print(classification_report(target_test, target_prediction_normalized))\n"
      ]
    },
    {
      "cell_type": "markdown",
      "metadata": {
        "id": "qAv7LDuqAdGE"
      },
      "source": [
        "####5.3.2 Model 2: Multilayer Perceptron **(without Standardization)**"
      ]
    },
    {
      "cell_type": "code",
      "execution_count": null,
      "metadata": {
        "colab": {
          "base_uri": "https://localhost:8080/"
        },
        "id": "i7vvfp8IRfcF",
        "outputId": "35149f32-ab1b-4458-f1f4-e5d5ba32dfb0"
      },
      "outputs": [
        {
          "output_type": "stream",
          "name": "stdout",
          "text": [
            "              precision    recall  f1-score   support\n",
            "\n",
            "           0       0.98      0.96      0.97       964\n",
            "           1       0.30      0.44      0.36        36\n",
            "\n",
            "    accuracy                           0.94      1000\n",
            "   macro avg       0.64      0.70      0.66      1000\n",
            "weighted avg       0.95      0.94      0.95      1000\n",
            "\n"
          ]
        }
      ],
      "source": [
        "#Compare to the results without the standardisation\n",
        "\n",
        "modelMLP = neural_network.MLPClassifier(max_iter=50000)\n",
        "modelMLP.fit(attributes_training,target_training)\n",
        "target_prediction=modelMLP.predict(attributes_test)\n",
        "print(classification_report(target_test, target_prediction))"
      ]
    },
    {
      "cell_type": "markdown",
      "metadata": {
        "id": "9yx9MkUdOMin"
      },
      "source": [
        "We observe globally a bit less performance without the stan"
      ]
    },
    {
      "cell_type": "markdown",
      "metadata": {
        "id": "Dxh4VzKzBI0l"
      },
      "source": [
        "##5.4 **Cross validation of LR and MLP** (with or without standardization)"
      ]
    },
    {
      "cell_type": "code",
      "execution_count": null,
      "metadata": {
        "colab": {
          "base_uri": "https://localhost:8080/"
        },
        "id": "QvByDlsERhok",
        "outputId": "e14b6303-2d74-4e5d-b2ff-ab41560af602"
      },
      "outputs": [
        {
          "output_type": "stream",
          "name": "stderr",
          "text": [
            "/usr/local/lib/python3.7/dist-packages/sklearn/metrics/_classification.py:1318: UndefinedMetricWarning: Precision is ill-defined and being set to 0.0 due to no predicted samples. Use `zero_division` parameter to control this behavior.\n",
            "  _warn_prf(average, modifier, msg_start, len(result))\n"
          ]
        },
        {
          "output_type": "stream",
          "name": "stdout",
          "text": [
            "The accuracy for LR-model with normalized is in average : 0.9662 and not normalized is : 0.9658\n",
            "The precision for LR-model with normalized is in average : 0.7634920634920634 and not normalized is : 0.7114285714285715\n",
            "The recall for LR-model with normalized is in average : 0.16199723479135245 and not normalized is : 0.16057273336685102\n",
            "The accuracy for MLP-model with normalized is in average : 0.9812000000000001 and not normalized is : 0.9649999999999999\n",
            "The precision for MLP-model with normalized is in average : 0.825925925925926 and not normalized is : 0.6846153846153846\n",
            "The recall for MLP-model with normalized is in average : 0.6336538461538461 and not normalized is : 0.08157679738562092\n"
          ]
        }
      ],
      "source": [
        "#Cross validation : we'll change the samples used for training and testing \n",
        "\n",
        "\n",
        "\n",
        "def classification(X,y,n,j):  #X : the attributes / y : the target / n : number of iterations / j : number of samples we'll run through the models\n",
        "    accuracy_MLP_norm=0\n",
        "    accuracy_LR_norm=0\n",
        "    precision_MLP_norm=0\n",
        "    precision_LR_norm=0\n",
        "    recall_MLP_norm=0\n",
        "    recall_LR_norm=0\n",
        "\n",
        "    accuracy_MLP=0\n",
        "    accuracy_LR=0\n",
        "    precision_MLP=0\n",
        "    precision_LR=0\n",
        "    recall_MLP=0\n",
        "    recall_LR=0\n",
        "    \n",
        "    \n",
        "    for i in range(j) :\n",
        "        \n",
        "        attributes_training, attributes_test, target_training, target_test = train_test_split(attributes, target, test_size = 0.1, random_state =i )\n",
        "        \n",
        "        sc=StandardScaler()\n",
        "        attributes_training_normalized = sc.fit_transform(attributes_training)\n",
        "        attributes_test_normalized = sc.transform(attributes_test)\n",
        "        \n",
        "        #LR normalized\n",
        "        modelLR = LogisticRegression()\n",
        "        modelLR.fit(attributes_training_normalized,target_training)\n",
        "        prediction_test_normalized = modelLR.predict(attributes_test_normalized)\n",
        "        \n",
        "        accuracy_LR_norm+=metrics.accuracy_score(target_test, prediction_test_normalized)\n",
        "        precision_LR_norm+=metrics.precision_score(target_test, prediction_test_normalized)\n",
        "        recall_LR_norm+=metrics.recall_score(target_test, prediction_test_normalized)\n",
        "\n",
        "\n",
        "        #LR not normalized\n",
        "\n",
        "        modelLR = LogisticRegression()\n",
        "        modelLR.fit(attributes_training,target_training)\n",
        "        prediction_test = modelLR.predict(attributes_test)\n",
        "\n",
        "        accuracy_LR+=metrics.accuracy_score(target_test, prediction_test)\n",
        "        precision_LR+=metrics.precision_score(target_test, prediction_test)\n",
        "        recall_LR+=metrics.recall_score(target_test, prediction_test)\n",
        "        \n",
        "\n",
        "        #MLP normalized\n",
        "\n",
        "        modelMLP = neural_network.MLPClassifier(max_iter=n)\n",
        "        modelMLP.fit(attributes_training_normalized,target_training)\n",
        "        target_prediction_normalized = modelMLP.predict(attributes_test_normalized)\n",
        "        \n",
        "        accuracy_MLP_norm+=metrics.accuracy_score(target_test, target_prediction_normalized)\n",
        "        precision_MLP_norm+=metrics.precision_score(target_test, target_prediction_normalized)\n",
        "        recall_MLP_norm+=metrics.recall_score(target_test, target_prediction_normalized)\n",
        "        \n",
        "\n",
        "        #MLP not normalized\n",
        "\n",
        "        modelMLP = neural_network.MLPClassifier(max_iter=n)\n",
        "        modelMLP.fit(attributes_training,target_training)\n",
        "        target_prediction=modelMLP.predict(attributes_test)\n",
        "\n",
        "        accuracy_MLP+=metrics.accuracy_score(target_test, target_prediction)\n",
        "        precision_MLP+=metrics.precision_score(target_test, target_prediction)\n",
        "        recall_MLP+=metrics.recall_score(target_test, target_prediction)\n",
        "\n",
        "        \n",
        "    print('The accuracy for LR-model with normalized is in average :', accuracy_LR_norm/j , 'and not normalized is :', accuracy_LR/j )\n",
        "    print('The precision for LR-model with normalized is in average :', precision_LR_norm/j, 'and not normalized is :',precision_LR/j)\n",
        "    print('The recall for LR-model with normalized is in average :', recall_LR_norm/j, 'and not normalized is :',recall_LR/j)\n",
        "\n",
        "    print('The accuracy for MLP-model with normalized is in average :', accuracy_MLP_norm/j , 'and not normalized is :',accuracy_MLP/j)\n",
        "    print('The precision for MLP-model with normalized is in average :', precision_MLP_norm/j, 'and not normalized is :',precision_MLP/j)\n",
        "    print('The recall for MLP-model with normalized is in average :', recall_MLP_norm/j, 'and not normalized is :',recall_MLP/j)\n",
        "\n",
        "\n",
        "classification(attributes,target,50000,5)"
      ]
    },
    {
      "cell_type": "markdown",
      "metadata": {
        "id": "ZyjPxvaARq9S"
      },
      "source": [
        "####5.4 **Model 3: LR and MLP with rebalanced dataset**"
      ]
    },
    {
      "cell_type": "markdown",
      "metadata": {
        "id": "IflSj7d-sxCe"
      },
      "source": [
        "As seen before, bad results on recall and precision might be due to the unbalanced dateset we use. Let's change the data set from a 10000 lines with 339 Target equal to 1 to a 6000 lines dataset with 339 Target equal to 1"
      ]
    },
    {
      "cell_type": "code",
      "execution_count": null,
      "metadata": {
        "colab": {
          "base_uri": "https://localhost:8080/"
        },
        "id": "YvWA2i3rsXAr",
        "outputId": "8ce7835a-adeb-422e-901a-bb05752663f6"
      },
      "outputs": [
        {
          "output_type": "stream",
          "name": "stderr",
          "text": [
            "/usr/local/lib/python3.7/dist-packages/sklearn/metrics/_classification.py:1318: UndefinedMetricWarning: Precision is ill-defined and being set to 0.0 due to no predicted samples. Use `zero_division` parameter to control this behavior.\n",
            "  _warn_prf(average, modifier, msg_start, len(result))\n",
            "/usr/local/lib/python3.7/dist-packages/sklearn/metrics/_classification.py:1318: UndefinedMetricWarning: Precision is ill-defined and being set to 0.0 due to no predicted samples. Use `zero_division` parameter to control this behavior.\n",
            "  _warn_prf(average, modifier, msg_start, len(result))\n"
          ]
        },
        {
          "output_type": "stream",
          "name": "stdout",
          "text": [
            "The accuracy for LR-model with normalized is in average : 0.9666121112929623 and not normalized is : 0.9675941080196399\n",
            "The precision for LR-model with normalized is in average : 0.62 and not normalized is : 0.6672727272727272\n",
            "The recall for LR-model with normalized is in average : 0.14102216748768473 and not normalized is : 0.16994252873563218\n",
            "The accuracy for MLP-model with normalized is in average : 0.9839607201309329 and not normalized is : 0.9584288052373159\n",
            "The precision for MLP-model with normalized is in average : 0.8195649379859906 and not normalized is : 0.2704761904761905\n",
            "The recall for MLP-model with normalized is in average : 0.7092077175697865 and not normalized is : 0.19261904761904763\n"
          ]
        }
      ],
      "source": [
        "from sklearn.metrics._plot.precision_recall_curve import precision_recall_curve\n",
        "machine_reduced=machine.copy()\n",
        "machine_reduced=shuffle(machine_reduced)\n",
        "\n",
        "sample=machine.iloc[1:4000,:]\n",
        "upper = np.where(sample['Target'] == 0)\n",
        "machine_reduced.drop(upper[0], inplace = True)\n",
        "\n",
        "attributes=machine_reduced.drop(['Target'], axis =1)\n",
        "target=machine_reduced['Target']\n",
        "\n",
        "classification(attributes,target,50000,5)\n",
        "    "
      ]
    },
    {
      "cell_type": "code",
      "execution_count": null,
      "metadata": {
        "colab": {
          "base_uri": "https://localhost:8080/"
        },
        "id": "Z4A3oXkyVs-l",
        "outputId": "bf015dd2-8319-4640-a700-5044253e4722"
      },
      "outputs": [
        {
          "output_type": "stream",
          "name": "stderr",
          "text": [
            "/usr/local/lib/python3.7/dist-packages/sklearn/metrics/_classification.py:1318: UndefinedMetricWarning: Precision is ill-defined and being set to 0.0 due to no predicted samples. Use `zero_division` parameter to control this behavior.\n",
            "  _warn_prf(average, modifier, msg_start, len(result))\n",
            "/usr/local/lib/python3.7/dist-packages/sklearn/metrics/_classification.py:1318: UndefinedMetricWarning: Precision is ill-defined and being set to 0.0 due to no predicted samples. Use `zero_division` parameter to control this behavior.\n",
            "  _warn_prf(average, modifier, msg_start, len(result))\n",
            "/usr/local/lib/python3.7/dist-packages/sklearn/metrics/_classification.py:1318: UndefinedMetricWarning: Precision is ill-defined and being set to 0.0 due to no predicted samples. Use `zero_division` parameter to control this behavior.\n",
            "  _warn_prf(average, modifier, msg_start, len(result))\n",
            "/usr/local/lib/python3.7/dist-packages/sklearn/metrics/_classification.py:1318: UndefinedMetricWarning: Precision is ill-defined and being set to 0.0 due to no predicted samples. Use `zero_division` parameter to control this behavior.\n",
            "  _warn_prf(average, modifier, msg_start, len(result))\n",
            "/usr/local/lib/python3.7/dist-packages/sklearn/linear_model/_logistic.py:818: ConvergenceWarning: lbfgs failed to converge (status=1):\n",
            "STOP: TOTAL NO. of ITERATIONS REACHED LIMIT.\n",
            "\n",
            "Increase the number of iterations (max_iter) or scale the data as shown in:\n",
            "    https://scikit-learn.org/stable/modules/preprocessing.html\n",
            "Please also refer to the documentation for alternative solver options:\n",
            "    https://scikit-learn.org/stable/modules/linear_model.html#logistic-regression\n",
            "  extra_warning_msg=_LOGISTIC_SOLVER_CONVERGENCE_MSG,\n",
            "/usr/local/lib/python3.7/dist-packages/sklearn/metrics/_classification.py:1318: UndefinedMetricWarning: Precision is ill-defined and being set to 0.0 due to no predicted samples. Use `zero_division` parameter to control this behavior.\n",
            "  _warn_prf(average, modifier, msg_start, len(result))\n",
            "/usr/local/lib/python3.7/dist-packages/sklearn/linear_model/_logistic.py:818: ConvergenceWarning: lbfgs failed to converge (status=1):\n",
            "STOP: TOTAL NO. of ITERATIONS REACHED LIMIT.\n",
            "\n",
            "Increase the number of iterations (max_iter) or scale the data as shown in:\n",
            "    https://scikit-learn.org/stable/modules/preprocessing.html\n",
            "Please also refer to the documentation for alternative solver options:\n",
            "    https://scikit-learn.org/stable/modules/linear_model.html#logistic-regression\n",
            "  extra_warning_msg=_LOGISTIC_SOLVER_CONVERGENCE_MSG,\n"
          ]
        },
        {
          "output_type": "stream",
          "name": "stdout",
          "text": [
            "The accuracy for LR-model with normalized is in average : 0.9712121212121213 and not normalized is : 0.9696969696969697\n",
            "The precision for LR-model with normalized is in average : 0.4 and not normalized is : 0.4\n",
            "The recall for LR-model with normalized is in average : 0.13 and not normalized is : 0.09\n",
            "The accuracy for MLP-model with normalized is in average : 0.9712121212121213 and not normalized is : 0.9666666666666668\n",
            "The precision for MLP-model with normalized is in average : 0.6 and not normalized is : 0.29333333333333333\n",
            "The recall for MLP-model with normalized is in average : 0.31999999999999995 and not normalized is : 0.34\n"
          ]
        }
      ],
      "source": [
        "from sklearn.metrics._plot.precision_recall_curve import precision_recall_curve\n",
        "machine_reduced=machine.copy()\n",
        "machine_reduced=shuffle(machine_reduced)\n",
        "\n",
        "sample=machine.iloc[1:9000,:]\n",
        "upper = np.where(sample['Target'] == 0)\n",
        "machine_reduced.drop(upper[0], inplace = True)\n",
        "\n",
        "attributes=machine_reduced.drop(['Target'], axis =1)\n",
        "target=machine_reduced['Target']\n",
        "\n",
        "classification(attributes,target,50000,5)"
      ]
    },
    {
      "cell_type": "markdown",
      "metadata": {
        "id": "7pSf-__eLk1R"
      },
      "source": [
        "#6. Conclusion"
      ]
    },
    {
      "cell_type": "markdown",
      "metadata": {
        "id": "E9tyPl5lFmol"
      },
      "source": [
        "To conclude:\n",
        "\n",
        "- Regarding all models (NB, LR, MLP), there is an improvement when we rebalance the dataset by removing rows from the over-representated part. The best way to rebalance the dataset would have been to collect more data concerning the under-representated data category, rather than removing rows from the over-represented one.\n",
        "\n",
        "- Regarding Naive Bayes, models training confirm an intuitive assumption , which is the more bins there are the better the precision and the recall are.\n",
        "\n",
        "- Regarding LR and MLP, normalization do not massively increase precision and recall.\n",
        "\n",
        "Way of improvements:\n",
        "\n",
        "- Another way to rebalance dataset would have been to remove outlier values: here because we don't have that much values, we didn't apply an algorithm to do so."
      ]
    }
  ],
  "metadata": {
    "colab": {
      "provenance": [],
      "include_colab_link": true
    },
    "kernelspec": {
      "display_name": "Python 3",
      "name": "python3"
    },
    "language_info": {
      "name": "python"
    }
  },
  "nbformat": 4,
  "nbformat_minor": 0
}